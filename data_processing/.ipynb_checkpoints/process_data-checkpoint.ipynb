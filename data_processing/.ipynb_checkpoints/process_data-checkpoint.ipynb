{
 "cells": [
  {
   "cell_type": "code",
   "execution_count": 39,
   "metadata": {},
   "outputs": [],
   "source": [
    "import os\n",
    "import cv2\n",
    "import random\n",
    "\n",
    "import numpy as np\n",
    "import pandas as pd\n",
    "\n",
    "from  matplotlib import pyplot as plt\n",
    "import matplotlib.image as mpimg"
   ]
  },
  {
   "cell_type": "code",
   "execution_count": 16,
   "metadata": {},
   "outputs": [],
   "source": [
    "DATA_FOLDER = '../data/project_data'\n",
    "TRAIN_FOLDER = os.path.join(DATA_FOLDER, 'train_shuffle')\n",
    "TRAIN_LABEL = os.path.join(DATA_FOLDER, 'train_label.csv')"
   ]
  },
  {
   "cell_type": "code",
   "execution_count": 22,
   "metadata": {},
   "outputs": [],
   "source": [
    "train_label_pd = pd.read_csv(TRAIN_LABEL, sep=',', header=0)"
   ]
  },
  {
   "cell_type": "code",
   "execution_count": 23,
   "metadata": {},
   "outputs": [
    {
     "data": {
      "text/html": [
       "<div>\n",
       "<style scoped>\n",
       "    .dataframe tbody tr th:only-of-type {\n",
       "        vertical-align: middle;\n",
       "    }\n",
       "\n",
       "    .dataframe tbody tr th {\n",
       "        vertical-align: top;\n",
       "    }\n",
       "\n",
       "    .dataframe thead th {\n",
       "        text-align: right;\n",
       "    }\n",
       "</style>\n",
       "<table border=\"1\" class=\"dataframe\">\n",
       "  <thead>\n",
       "    <tr style=\"text-align: right;\">\n",
       "      <th></th>\n",
       "      <th>image_index</th>\n",
       "      <th>superclass_index</th>\n",
       "      <th>subclass_index</th>\n",
       "    </tr>\n",
       "  </thead>\n",
       "  <tbody>\n",
       "    <tr>\n",
       "      <th>0</th>\n",
       "      <td>0.jpg</td>\n",
       "      <td>1</td>\n",
       "      <td>53</td>\n",
       "    </tr>\n",
       "    <tr>\n",
       "      <th>1</th>\n",
       "      <td>1.jpg</td>\n",
       "      <td>1</td>\n",
       "      <td>45</td>\n",
       "    </tr>\n",
       "    <tr>\n",
       "      <th>2</th>\n",
       "      <td>2.jpg</td>\n",
       "      <td>1</td>\n",
       "      <td>4</td>\n",
       "    </tr>\n",
       "    <tr>\n",
       "      <th>3</th>\n",
       "      <td>3.jpg</td>\n",
       "      <td>2</td>\n",
       "      <td>7</td>\n",
       "    </tr>\n",
       "    <tr>\n",
       "      <th>4</th>\n",
       "      <td>4.jpg</td>\n",
       "      <td>1</td>\n",
       "      <td>33</td>\n",
       "    </tr>\n",
       "    <tr>\n",
       "      <th>...</th>\n",
       "      <td>...</td>\n",
       "      <td>...</td>\n",
       "      <td>...</td>\n",
       "    </tr>\n",
       "    <tr>\n",
       "      <th>6467</th>\n",
       "      <td>6467.jpg</td>\n",
       "      <td>0</td>\n",
       "      <td>55</td>\n",
       "    </tr>\n",
       "    <tr>\n",
       "      <th>6468</th>\n",
       "      <td>6468.jpg</td>\n",
       "      <td>0</td>\n",
       "      <td>84</td>\n",
       "    </tr>\n",
       "    <tr>\n",
       "      <th>6469</th>\n",
       "      <td>6469.jpg</td>\n",
       "      <td>0</td>\n",
       "      <td>49</td>\n",
       "    </tr>\n",
       "    <tr>\n",
       "      <th>6470</th>\n",
       "      <td>6470.jpg</td>\n",
       "      <td>2</td>\n",
       "      <td>71</td>\n",
       "    </tr>\n",
       "    <tr>\n",
       "      <th>6471</th>\n",
       "      <td>6471.jpg</td>\n",
       "      <td>0</td>\n",
       "      <td>15</td>\n",
       "    </tr>\n",
       "  </tbody>\n",
       "</table>\n",
       "<p>6472 rows × 3 columns</p>\n",
       "</div>"
      ],
      "text/plain": [
       "     image_index  superclass_index  subclass_index\n",
       "0          0.jpg                 1              53\n",
       "1          1.jpg                 1              45\n",
       "2          2.jpg                 1               4\n",
       "3          3.jpg                 2               7\n",
       "4          4.jpg                 1              33\n",
       "...          ...               ...             ...\n",
       "6467    6467.jpg                 0              55\n",
       "6468    6468.jpg                 0              84\n",
       "6469    6469.jpg                 0              49\n",
       "6470    6470.jpg                 2              71\n",
       "6471    6471.jpg                 0              15\n",
       "\n",
       "[6472 rows x 3 columns]"
      ]
     },
     "execution_count": 23,
     "metadata": {},
     "output_type": "execute_result"
    }
   ],
   "source": [
    "train_label_pd"
   ]
  },
  {
   "cell_type": "code",
   "execution_count": 40,
   "metadata": {},
   "outputs": [
    {
     "name": "stdout",
     "output_type": "stream",
     "text": [
      "63.jpg\n"
     ]
    }
   ],
   "source": [
    "for file in os.listdir(TRAIN_FOLDER):\n",
    "    img_path = os.path.join(TRAIN_FOLDER, file)\n",
    "    img = cv2.imread(img_path)\n",
    "    print(file)\n",
    "    break"
   ]
  },
  {
   "cell_type": "code",
   "execution_count": 41,
   "metadata": {},
   "outputs": [
    {
     "ename": "NameError",
     "evalue": "name 'mpimg' is not defined",
     "output_type": "error",
     "traceback": [
      "\u001b[0;31m---------------------------------------------------------------------------\u001b[0m",
      "\u001b[0;31mNameError\u001b[0m                                 Traceback (most recent call last)",
      "\u001b[0;32m<ipython-input-41-a3e4f02d8d3a>\u001b[0m in \u001b[0;36m<module>\u001b[0;34m\u001b[0m\n\u001b[1;32m      3\u001b[0m     \u001b[0mfile\u001b[0m \u001b[0;34m=\u001b[0m \u001b[0mrandom\u001b[0m\u001b[0;34m.\u001b[0m\u001b[0mchoice\u001b[0m\u001b[0;34m(\u001b[0m\u001b[0mos\u001b[0m\u001b[0;34m.\u001b[0m\u001b[0mlistdir\u001b[0m\u001b[0;34m(\u001b[0m\u001b[0mTRAIN_FOLDER\u001b[0m\u001b[0;34m)\u001b[0m\u001b[0;34m)\u001b[0m\u001b[0;34m\u001b[0m\u001b[0;34m\u001b[0m\u001b[0m\n\u001b[1;32m      4\u001b[0m     \u001b[0mimage_path\u001b[0m\u001b[0;34m=\u001b[0m \u001b[0mos\u001b[0m\u001b[0;34m.\u001b[0m\u001b[0mpath\u001b[0m\u001b[0;34m.\u001b[0m\u001b[0mjoin\u001b[0m\u001b[0;34m(\u001b[0m\u001b[0mTRAIN_FOLDER\u001b[0m\u001b[0;34m,\u001b[0m \u001b[0mfile\u001b[0m\u001b[0;34m)\u001b[0m\u001b[0;34m\u001b[0m\u001b[0;34m\u001b[0m\u001b[0m\n\u001b[0;32m----> 5\u001b[0;31m     \u001b[0mimg\u001b[0m\u001b[0;34m=\u001b[0m\u001b[0mmpimg\u001b[0m\u001b[0;34m.\u001b[0m\u001b[0mimread\u001b[0m\u001b[0;34m(\u001b[0m\u001b[0mimage_path\u001b[0m\u001b[0;34m)\u001b[0m\u001b[0;34m\u001b[0m\u001b[0;34m\u001b[0m\u001b[0m\n\u001b[0m\u001b[1;32m      6\u001b[0m     \u001b[0max\u001b[0m\u001b[0;34m=\u001b[0m\u001b[0mplt\u001b[0m\u001b[0;34m.\u001b[0m\u001b[0msubplot\u001b[0m\u001b[0;34m(\u001b[0m\u001b[0;36m1\u001b[0m\u001b[0;34m,\u001b[0m\u001b[0;36m5\u001b[0m\u001b[0;34m,\u001b[0m\u001b[0mi\u001b[0m\u001b[0;34m+\u001b[0m\u001b[0;36m1\u001b[0m\u001b[0;34m)\u001b[0m\u001b[0;34m\u001b[0m\u001b[0;34m\u001b[0m\u001b[0m\n\u001b[1;32m      7\u001b[0m     \u001b[0max\u001b[0m\u001b[0;34m.\u001b[0m\u001b[0mtitle\u001b[0m\u001b[0;34m.\u001b[0m\u001b[0mset_text\u001b[0m\u001b[0;34m(\u001b[0m\u001b[0mfile\u001b[0m\u001b[0;34m)\u001b[0m\u001b[0;34m\u001b[0m\u001b[0;34m\u001b[0m\u001b[0m\n",
      "\u001b[0;31mNameError\u001b[0m: name 'mpimg' is not defined"
     ]
    },
    {
     "data": {
      "text/plain": [
       "<Figure size 576x576 with 0 Axes>"
      ]
     },
     "metadata": {},
     "output_type": "display_data"
    }
   ],
   "source": [
    "plt.figure(figsize=(8,8))\n",
    "for i in range(5):\n",
    "    file = random.choice(os.listdir(TRAIN_FOLDER))\n",
    "    image_path = os.path.join(TRAIN_FOLDER, file)\n",
    "    img = mpimg.imread(image_path)\n",
    "    ax = plt.subplot(1,5,i+1)\n",
    "    ax.title.set_text(file)\n",
    "    plt.imshow(img)"
   ]
  },
  {
   "cell_type": "code",
   "execution_count": 34,
   "metadata": {},
   "outputs": [
    {
     "data": {
      "text/plain": [
       "(8, 8, 3)"
      ]
     },
     "execution_count": 34,
     "metadata": {},
     "output_type": "execute_result"
    }
   ],
   "source": [
    "np.shape(img)"
   ]
  },
  {
   "cell_type": "code",
   "execution_count": 35,
   "metadata": {},
   "outputs": [
    {
     "data": {
      "text/plain": [
       "array([[[ 88, 131, 118],\n",
       "        [ 76, 119, 106],\n",
       "        [ 80, 123, 112],\n",
       "        [ 72, 115, 104],\n",
       "        [ 69, 112, 103],\n",
       "        [ 86, 129, 120],\n",
       "        [ 87, 131, 125],\n",
       "        [ 85, 129, 123]],\n",
       "\n",
       "       [[124, 167, 156],\n",
       "        [ 95, 138, 127],\n",
       "        [ 91, 134, 123],\n",
       "        [ 83, 129, 117],\n",
       "        [ 85, 130, 121],\n",
       "        [ 99, 143, 136],\n",
       "        [ 96, 140, 134],\n",
       "        [ 95, 141, 135]],\n",
       "\n",
       "       [[145, 190, 181],\n",
       "        [128, 173, 164],\n",
       "        [ 60, 105,  96],\n",
       "        [ 98, 145, 136],\n",
       "        [102, 149, 141],\n",
       "        [ 66, 115, 107],\n",
       "        [110, 158, 152],\n",
       "        [ 82, 129, 126]],\n",
       "\n",
       "       [[ 55, 104,  96],\n",
       "        [ 37,  86,  78],\n",
       "        [ 65, 114, 106],\n",
       "        [ 45,  94,  86],\n",
       "        [ 60, 111, 103],\n",
       "        [110, 161, 154],\n",
       "        [ 77, 128, 124],\n",
       "        [ 60, 111, 107]],\n",
       "\n",
       "       [[ 53, 105,  98],\n",
       "        [  0,  33,  26],\n",
       "        [ 31,  85,  78],\n",
       "        [ 94, 148, 141],\n",
       "        [105, 159, 152],\n",
       "        [ 68, 122, 117],\n",
       "        [ 21,  77,  72],\n",
       "        [ 71, 127, 122]],\n",
       "\n",
       "       [[ 73, 128, 125],\n",
       "        [ 93, 148, 145],\n",
       "        [ 55, 112, 109],\n",
       "        [ 95, 153, 148],\n",
       "        [ 86, 143, 140],\n",
       "        [ 42, 100,  95],\n",
       "        [ 75, 135, 129],\n",
       "        [ 38,  98,  92]],\n",
       "\n",
       "       [[ 86, 146, 145],\n",
       "        [ 70, 130, 129],\n",
       "        [ 75, 135, 134],\n",
       "        [ 61, 122, 118],\n",
       "        [ 49, 112, 110],\n",
       "        [ 62, 126, 121],\n",
       "        [ 65, 129, 124],\n",
       "        [ 72, 136, 131]],\n",
       "\n",
       "       [[ 72, 134, 134],\n",
       "        [ 74, 136, 136],\n",
       "        [ 86, 149, 147],\n",
       "        [ 71, 134, 132],\n",
       "        [ 61, 126, 124],\n",
       "        [ 76, 141, 139],\n",
       "        [ 74, 140, 135],\n",
       "        [ 63, 129, 124]]], dtype=uint8)"
      ]
     },
     "execution_count": 35,
     "metadata": {},
     "output_type": "execute_result"
    }
   ],
   "source": [
    "img"
   ]
  },
  {
   "cell_type": "code",
   "execution_count": null,
   "metadata": {},
   "outputs": [],
   "source": []
  }
 ],
 "metadata": {
  "kernelspec": {
   "display_name": "Python 3",
   "language": "python",
   "name": "python3"
  },
  "language_info": {
   "codemirror_mode": {
    "name": "ipython",
    "version": 3
   },
   "file_extension": ".py",
   "mimetype": "text/x-python",
   "name": "python",
   "nbconvert_exporter": "python",
   "pygments_lexer": "ipython3",
   "version": "3.7.5"
  }
 },
 "nbformat": 4,
 "nbformat_minor": 2
}
